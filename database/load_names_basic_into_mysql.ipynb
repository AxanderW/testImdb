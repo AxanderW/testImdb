{
 "cells": [
  {
   "cell_type": "code",
   "execution_count": 1,
   "metadata": {},
   "outputs": [],
   "source": [
    "from sqlalchemy import create_engine\n",
    "from sqlalchemy.ext.declarative import declarative_base\n",
    "from sqlalchemy import Column, Integer, String, Float\n",
    "from sqlalchemy.orm import Session\n",
    "from mysql_conn import password\n",
    "import datetime\n",
    "import pandas as pd\n",
    "import os"
   ]
  },
  {
   "cell_type": "code",
   "execution_count": 2,
   "metadata": {},
   "outputs": [
    {
     "data": {
      "text/html": [
       "<div>\n",
       "<style scoped>\n",
       "    .dataframe tbody tr th:only-of-type {\n",
       "        vertical-align: middle;\n",
       "    }\n",
       "\n",
       "    .dataframe tbody tr th {\n",
       "        vertical-align: top;\n",
       "    }\n",
       "\n",
       "    .dataframe thead th {\n",
       "        text-align: right;\n",
       "    }\n",
       "</style>\n",
       "<table border=\"1\" class=\"dataframe\">\n",
       "  <thead>\n",
       "    <tr style=\"text-align: right;\">\n",
       "      <th></th>\n",
       "      <th>nconst</th>\n",
       "      <th>primaryName</th>\n",
       "      <th>birthYear</th>\n",
       "      <th>deathYear</th>\n",
       "      <th>primaryProfession</th>\n",
       "      <th>knownForTitles</th>\n",
       "    </tr>\n",
       "  </thead>\n",
       "  <tbody>\n",
       "    <tr>\n",
       "      <th>0</th>\n",
       "      <td>nm0000001</td>\n",
       "      <td>Fred Astaire</td>\n",
       "      <td>1899</td>\n",
       "      <td>1987</td>\n",
       "      <td>soundtrack,actor,miscellaneous</td>\n",
       "      <td>tt0043044,tt0050419,tt0053137,tt0072308</td>\n",
       "    </tr>\n",
       "    <tr>\n",
       "      <th>1</th>\n",
       "      <td>nm0000002</td>\n",
       "      <td>Lauren Bacall</td>\n",
       "      <td>1924</td>\n",
       "      <td>2014</td>\n",
       "      <td>actress,soundtrack</td>\n",
       "      <td>tt0117057,tt0037382,tt0038355,tt0071877</td>\n",
       "    </tr>\n",
       "    <tr>\n",
       "      <th>2</th>\n",
       "      <td>nm0000003</td>\n",
       "      <td>Brigitte Bardot</td>\n",
       "      <td>1934</td>\n",
       "      <td>\\N</td>\n",
       "      <td>actress,soundtrack,producer</td>\n",
       "      <td>tt0059956,tt0057345,tt0054452,tt0049189</td>\n",
       "    </tr>\n",
       "    <tr>\n",
       "      <th>3</th>\n",
       "      <td>nm0000004</td>\n",
       "      <td>John Belushi</td>\n",
       "      <td>1949</td>\n",
       "      <td>1982</td>\n",
       "      <td>actor,writer,soundtrack</td>\n",
       "      <td>tt0078723,tt0080455,tt0072562,tt0077975</td>\n",
       "    </tr>\n",
       "    <tr>\n",
       "      <th>4</th>\n",
       "      <td>nm0000005</td>\n",
       "      <td>Ingmar Bergman</td>\n",
       "      <td>1918</td>\n",
       "      <td>2007</td>\n",
       "      <td>writer,director,actor</td>\n",
       "      <td>tt0050986,tt0069467,tt0083922,tt0050976</td>\n",
       "    </tr>\n",
       "  </tbody>\n",
       "</table>\n",
       "</div>"
      ],
      "text/plain": [
       "      nconst      primaryName birthYear deathYear  \\\n",
       "0  nm0000001     Fred Astaire      1899      1987   \n",
       "1  nm0000002    Lauren Bacall      1924      2014   \n",
       "2  nm0000003  Brigitte Bardot      1934        \\N   \n",
       "3  nm0000004     John Belushi      1949      1982   \n",
       "4  nm0000005   Ingmar Bergman      1918      2007   \n",
       "\n",
       "                primaryProfession                           knownForTitles  \n",
       "0  soundtrack,actor,miscellaneous  tt0043044,tt0050419,tt0053137,tt0072308  \n",
       "1              actress,soundtrack  tt0117057,tt0037382,tt0038355,tt0071877  \n",
       "2     actress,soundtrack,producer  tt0059956,tt0057345,tt0054452,tt0049189  \n",
       "3         actor,writer,soundtrack  tt0078723,tt0080455,tt0072562,tt0077975  \n",
       "4           writer,director,actor  tt0050986,tt0069467,tt0083922,tt0050976  "
      ]
     },
     "execution_count": 2,
     "metadata": {},
     "output_type": "execute_result"
    }
   ],
   "source": [
    "names_basic_df = pd.read_csv('../exploration/imdb_data/name.basics.tsv.gz',\n",
    "                            delimiter='\\t', low_memory=False)\n",
    "\n",
    "names_basic_df.head()"
   ]
  },
  {
   "cell_type": "code",
   "execution_count": 3,
   "metadata": {},
   "outputs": [
    {
     "data": {
      "text/plain": [
       "9102837"
      ]
     },
     "execution_count": 3,
     "metadata": {},
     "output_type": "execute_result"
    }
   ],
   "source": [
    "len(names_basic_df)"
   ]
  },
  {
   "cell_type": "code",
   "execution_count": 4,
   "metadata": {},
   "outputs": [],
   "source": [
    "def fill_empty_years(x):\n",
    "    try:\n",
    "        return int(x)\n",
    "    except ValueError:\n",
    "        return 9999\n",
    "\n",
    "def fill_empty_strings(x):\n",
    "    return str(x)"
   ]
  },
  {
   "cell_type": "code",
   "execution_count": 5,
   "metadata": {},
   "outputs": [
    {
     "data": {
      "text/html": [
       "<div>\n",
       "<style scoped>\n",
       "    .dataframe tbody tr th:only-of-type {\n",
       "        vertical-align: middle;\n",
       "    }\n",
       "\n",
       "    .dataframe tbody tr th {\n",
       "        vertical-align: top;\n",
       "    }\n",
       "\n",
       "    .dataframe thead th {\n",
       "        text-align: right;\n",
       "    }\n",
       "</style>\n",
       "<table border=\"1\" class=\"dataframe\">\n",
       "  <thead>\n",
       "    <tr style=\"text-align: right;\">\n",
       "      <th></th>\n",
       "      <th>nconst</th>\n",
       "      <th>primaryName</th>\n",
       "      <th>birthYear</th>\n",
       "      <th>deathYear</th>\n",
       "      <th>primaryProfession</th>\n",
       "      <th>knownForTitles</th>\n",
       "    </tr>\n",
       "  </thead>\n",
       "  <tbody>\n",
       "    <tr>\n",
       "      <th>0</th>\n",
       "      <td>nm0000001</td>\n",
       "      <td>Fred Astaire</td>\n",
       "      <td>1899</td>\n",
       "      <td>1987</td>\n",
       "      <td>soundtrack,actor,miscellaneous</td>\n",
       "      <td>tt0043044,tt0050419,tt0053137,tt0072308</td>\n",
       "    </tr>\n",
       "    <tr>\n",
       "      <th>1</th>\n",
       "      <td>nm0000002</td>\n",
       "      <td>Lauren Bacall</td>\n",
       "      <td>1924</td>\n",
       "      <td>2014</td>\n",
       "      <td>actress,soundtrack</td>\n",
       "      <td>tt0117057,tt0037382,tt0038355,tt0071877</td>\n",
       "    </tr>\n",
       "    <tr>\n",
       "      <th>2</th>\n",
       "      <td>nm0000003</td>\n",
       "      <td>Brigitte Bardot</td>\n",
       "      <td>1934</td>\n",
       "      <td>9999</td>\n",
       "      <td>actress,soundtrack,producer</td>\n",
       "      <td>tt0059956,tt0057345,tt0054452,tt0049189</td>\n",
       "    </tr>\n",
       "    <tr>\n",
       "      <th>3</th>\n",
       "      <td>nm0000004</td>\n",
       "      <td>John Belushi</td>\n",
       "      <td>1949</td>\n",
       "      <td>1982</td>\n",
       "      <td>actor,writer,soundtrack</td>\n",
       "      <td>tt0078723,tt0080455,tt0072562,tt0077975</td>\n",
       "    </tr>\n",
       "    <tr>\n",
       "      <th>4</th>\n",
       "      <td>nm0000005</td>\n",
       "      <td>Ingmar Bergman</td>\n",
       "      <td>1918</td>\n",
       "      <td>2007</td>\n",
       "      <td>writer,director,actor</td>\n",
       "      <td>tt0050986,tt0069467,tt0083922,tt0050976</td>\n",
       "    </tr>\n",
       "  </tbody>\n",
       "</table>\n",
       "</div>"
      ],
      "text/plain": [
       "      nconst      primaryName  birthYear  deathYear  \\\n",
       "0  nm0000001     Fred Astaire       1899       1987   \n",
       "1  nm0000002    Lauren Bacall       1924       2014   \n",
       "2  nm0000003  Brigitte Bardot       1934       9999   \n",
       "3  nm0000004     John Belushi       1949       1982   \n",
       "4  nm0000005   Ingmar Bergman       1918       2007   \n",
       "\n",
       "                primaryProfession                           knownForTitles  \n",
       "0  soundtrack,actor,miscellaneous  tt0043044,tt0050419,tt0053137,tt0072308  \n",
       "1              actress,soundtrack  tt0117057,tt0037382,tt0038355,tt0071877  \n",
       "2     actress,soundtrack,producer  tt0059956,tt0057345,tt0054452,tt0049189  \n",
       "3         actor,writer,soundtrack  tt0078723,tt0080455,tt0072562,tt0077975  \n",
       "4           writer,director,actor  tt0050986,tt0069467,tt0083922,tt0050976  "
      ]
     },
     "execution_count": 5,
     "metadata": {},
     "output_type": "execute_result"
    }
   ],
   "source": [
    "names_basic_df['primaryName'] = names_basic_df['primaryName'].apply(fill_empty_strings)\n",
    "names_basic_df['birthYear'] = names_basic_df['birthYear'].apply(fill_empty_years)\n",
    "names_basic_df['deathYear'] = names_basic_df['deathYear'].apply(fill_empty_years)\n",
    "names_basic_df['primaryProfession'] = names_basic_df['primaryProfession'].apply(fill_empty_strings)\n",
    "names_basic_df['knownForTitles'] = names_basic_df['knownForTitles'].apply(fill_empty_strings)\n",
    "names_basic_df.head()"
   ]
  },
  {
   "cell_type": "code",
   "execution_count": 16,
   "metadata": {},
   "outputs": [],
   "source": [
    "from mysql_conn import password\n",
    "from sqlalchemy import create_engine\n",
    "import datetime"
   ]
  },
  {
   "cell_type": "code",
   "execution_count": 6,
   "metadata": {},
   "outputs": [],
   "source": [
    "# CREATE DATABASE connection\n",
    "#password = os.environ['MY_SQL_PW']\n",
    "rds_connection_string = f\"root:{password}@127.0.0.1/imdbtest_db2\"\n",
    "engine = create_engine(f'mysql://{rds_connection_string}')"
   ]
  },
  {
   "cell_type": "code",
   "execution_count": 11,
   "metadata": {},
   "outputs": [],
   "source": [
    "Base = declarative_base()\n",
    "session = Session(bind=engine)\n",
    "\n",
    "# Object relational mapping for our table\n",
    "class NamesBasic(Base):\n",
    "    __tablename__ = 'names_basic'\n",
    "    id = Column(Integer, primary_key=True)\n",
    "    nconst = Column(String(50))\n",
    "    primaryName = Column(String(255))\n",
    "    birthYear = Column(Integer)\n",
    "    deathYear = Column(Integer)\n",
    "    primaryProfession = Column(String(255))\n",
    "    knownForTitles = Column(String(255))\n",
    "    "
   ]
  },
  {
   "cell_type": "code",
   "execution_count": 12,
   "metadata": {},
   "outputs": [
    {
     "name": "stdout",
     "output_type": "stream",
     "text": [
      "0:00:26.766949\n"
     ]
    }
   ],
   "source": [
    "c = 0\n",
    "maxRows = 10000\n",
    "start_time = datetime.datetime.now()\n",
    "for index, row in names_basic_df.iterrows():\n",
    "    record = NamesBasic()\n",
    "    record.nconst = row['nconst']\n",
    "    record.primaryName = row['primaryName']\n",
    "    record.birthYear = row['birthYear']\n",
    "    record.deathYear = row['deathYear']\n",
    "    record.primaryProfession = row['primaryProfession']\n",
    "    record.knownForTitles = row['knownForTitles']\n",
    "    session.add(record)\n",
    "    session.commit()\n",
    "    c = c + 1\n",
    "    if c >= maxRows: break\n",
    "\n",
    "end_time = datetime.datetime.now()\n",
    "print(end_time - start_time)"
   ]
  },
  {
   "cell_type": "code",
   "execution_count": null,
   "metadata": {},
   "outputs": [],
   "source": []
  }
 ],
 "metadata": {
  "kernelspec": {
   "display_name": "Python 3",
   "language": "python",
   "name": "python3"
  },
  "language_info": {
   "codemirror_mode": {
    "name": "ipython",
    "version": 3
   },
   "file_extension": ".py",
   "mimetype": "text/x-python",
   "name": "python",
   "nbconvert_exporter": "python",
   "pygments_lexer": "ipython3",
   "version": "3.6.5"
  }
 },
 "nbformat": 4,
 "nbformat_minor": 2
}
